{
  "cells": [
    {
      "cell_type": "code",
      "execution_count": null,
      "metadata": {
        "collapsed": false
      },
      "outputs": [],
      "source": [
        "%matplotlib inline\n",
        "from pyvista import set_plot_theme\n",
        "set_plot_theme('document')"
      ]
    },
    {
      "cell_type": "markdown",
      "metadata": {},
      "source": [
        "\n",
        "# 1.5: Fault relations\n"
      ]
    },
    {
      "cell_type": "markdown",
      "metadata": {},
      "source": [
        "Importing gempy\n",
        "\n"
      ]
    },
    {
      "cell_type": "code",
      "execution_count": null,
      "metadata": {
        "collapsed": false
      },
      "outputs": [],
      "source": [
        "import gempy as gp\n",
        "import gempy_viewer as gpv\n",
        "\n",
        "# Aux imports\n",
        "import numpy as np\n",
        "import os\n",
        "\n",
        "np.random.seed(1515)"
      ]
    },
    {
      "cell_type": "markdown",
      "metadata": {},
      "source": [
        "We import a model from an existing folder.\n",
        "\n",
        "\n"
      ]
    },
    {
      "cell_type": "code",
      "execution_count": null,
      "metadata": {},
      "outputs": [],
      "source": [
        "import pandas as pd\n",
        "point_df = pd.read_csv(r'D:\\3D Modeling Again\\Prepared Data\\PointsGXY33.csv')\n",
        "x_min = point_df['X'].min()\n",
        "x_max = point_df['X'].max()\n",
        "y_min = point_df['Y'].min()\n",
        "y_max = point_df['Y'].max()\n",
        "z_min = point_df['Z'].min()\n",
        "z_max = point_df['Z'].max()\n",
        "\n",
        "Extent = [x_min, x_max, y_min, y_max, z_min, z_max]"
      ]
    },
    {
      "cell_type": "code",
      "execution_count": null,
      "metadata": {
        "collapsed": false
      },
      "outputs": [],
      "source": [
        "data_path = os.path.abspath(r'D:\\3D Modeling Again\\Prepared Data')\n",
        "\n",
        "geo_model: gp.data.GeoModel = gp.create_geomodel(\n",
        "    project_name='Faults_relations',\n",
        "    #extent=[0, 1000, 0, 1000, -1000, -400],\n",
        "    extent = Extent,\n",
        "    resolution=[20, 20, 20],\n",
        "    refinement=6,  # * For this model is better not to use octrees because we want to see what is happening in the scalar fields\n",
        "    importer_helper=gp.data.ImporterHelper(\n",
        "       path_to_orientations=os.path.join(data_path, r\"D:\\3D Modeling Again\\Prepared Data\\OrientationsGXY333.csv\"),\n",
        "        path_to_surface_points=os.path.join(data_path, r\"D:\\3D Modeling Again\\Prepared Data\\PointsGXY33.csv\"),\n",
        "    )\n",
        ")\n",
        "\n",
        "print(geo_model)"
      ]
    },
    {
      "cell_type": "markdown",
      "metadata": {},
      "source": [
        "## One fault model\n",
        "\n"
      ]
    },
    {
      "cell_type": "markdown",
      "metadata": {},
      "source": [
        "Setting the structural frame\n",
        "\n"
      ]
    },
    {
      "cell_type": "code",
      "execution_count": null,
      "metadata": {
        "collapsed": false
      },
      "outputs": [],
      "source": [
        "fault1: gp.data.StructuralElement = geo_model.structural_frame.get_element_by_name(\"fault1\")\n",
        "fault2: gp.data.StructuralElement = geo_model.structural_frame.get_element_by_name(\"fault2\")\n",
        "\n",
        "# Remove the faults from the default group\n",
        "default_group: gp.data.StructuralGroup = geo_model.structural_frame.get_group_by_name(\"default_formation\")\n",
        "default_group.elements.remove(fault1)\n",
        "default_group.elements.remove(fault2)\n",
        "\n",
        "# Add a new group for the fault\n",
        "gp.add_structural_group(\n",
        "    model=geo_model,\n",
        "    group_index=0,\n",
        "    structural_group_name=\"fault_series_1\",\n",
        "    elements=[fault1],\n",
        "    structural_relation=gp.data.StackRelationType.FAULT,\n",
        "    fault_relations=gp.data.FaultsRelationSpecialCase.OFFSET_ALL\n",
        ")\n",
        "\n",
        "print(geo_model.structural_frame)"
      ]
    },
    {
      "cell_type": "code",
      "execution_count": null,
      "metadata": {
        "collapsed": false
      },
      "outputs": [],
      "source": [
        "geo_model.transform.apply_anisotropy(gp.data.GlobalAnisotropy.NONE)\n",
        "if False:\n",
        "    gp.compute_model(geo_model)\n",
        "    # %%\n",
        "    print(geo_model.solutions.raw_arrays.block_matrix[0])  # This contains the block values for the fault1\n",
        "    print(geo_model.solutions.raw_arrays.block_matrix[1])  # This contains the block values for the formations\n",
        "    # %%\n",
        "    gpv.plot_2d(geo_model, show_data=True)\n",
        "    gpv.plot_3d(geo_model, show_data=True, kwargs_plot_structured_grid={'opacity': .2})\n",
        "\n",
        "# TODO: Add example of offsetting just one fault\n",
        "\n",
        "# %5\n",
        "# Graben example\n",
        "# --------------"
      ]
    },
    {
      "cell_type": "code",
      "execution_count": null,
      "metadata": {},
      "outputs": [],
      "source": [
        "gp.add_structural_group(\n",
        "    model=geo_model,\n",
        "    group_index=1,\n",
        "    structural_group_name=\"fault_series_2\",\n",
        "    elements=[fault2],\n",
        "    structural_relation=gp.data.StackRelationType.FAULT,\n",
        "    fault_relations=gp.data.FaultsRelationSpecialCase.OFFSET_ALL\n",
        ")\n",
        "print(geo_model.structural_frame)\n",
        "\n",
        "from gempy_engine.core.data.kernel_classes.solvers import Solvers\n",
        "\n",
        "geo_model.interpolation_options.kernel_options.kernel_solver = Solvers.SCIPY_CG\n",
        "geo_model.interpolation_options.kernel_options.compute_condition_number = True\n",
        "gp.compute_model(geo_model)"
      ]
    },
    {
      "cell_type": "code",
      "execution_count": null,
      "metadata": {
        "collapsed": false
      },
      "outputs": [],
      "source": [
        "gpv.plot_2d(geo_model, show_data=True)\n",
        "gpv.plot_3d(geo_model, show_data=True, image=True, kwargs_plot_structured_grid={'opacity': .2})"
      ]
    },
    {
      "cell_type": "code",
      "execution_count": null,
      "metadata": {
        "collapsed": false
      },
      "outputs": [],
      "source": [
        "gpv.plot_2d(geo_model, show_scalar=True, show_lith=False, series_n=0)\n",
        "gpv.plot_2d(geo_model, show_scalar=True, show_lith=False, series_n=1)\n",
        "gpv.plot_2d(geo_model, show_scalar=True, show_lith=False, series_n=2)"
      ]
    },
    {
      "cell_type": "markdown",
      "metadata": {},
      "source": [
        "## Finite Faults\n",
        "\n"
      ]
    },
    {
      "cell_type": "markdown",
      "metadata": {},
      "source": [
        "## Faults relations\n",
        "\n"
      ]
    },
    {
      "cell_type": "markdown",
      "metadata": {},
      "source": [
        "Let's split the formations in two groups\n",
        "\n"
      ]
    },
    {
      "cell_type": "code",
      "execution_count": null,
      "metadata": {
        "collapsed": false
      },
      "outputs": [],
      "source": [
        "gp.add_structural_group(\n",
        "    model=geo_model,\n",
        "    group_index=2,\n",
        "    structural_group_name=\"series_1\",\n",
        "    elements=[\n",
        "        geo_model.structural_frame.get_element_by_name(\"rock4\"),\n",
        "        geo_model.structural_frame.get_element_by_name(\"rock3\")\n",
        "    ],\n",
        "    structural_relation=gp.data.StackRelationType.ERODE\n",
        ")\n",
        "\n",
        "default_group.elements.remove(geo_model.structural_frame.get_element_by_name(\"rock4\"))\n",
        "default_group.elements.remove(geo_model.structural_frame.get_element_by_name(\"rock3\"))\n",
        "\n",
        "gp.set_fault_relation(\n",
        "    frame=geo_model.structural_frame,\n",
        "    rel_matrix=np.array([\n",
        "        [0, 1, 1, 1],\n",
        "        [0, 0, 0, 1],\n",
        "        [0, 0, 0, 0],\n",
        "        [0, 0, 0, 0]\n",
        "    ]\n",
        "    )\n",
        ")\n",
        "print(geo_model.structural_frame)"
      ]
    },
    {
      "cell_type": "code",
      "execution_count": null,
      "metadata": {
        "collapsed": false
      },
      "outputs": [],
      "source": [
        "gp.compute_model(geo_model)"
      ]
    },
    {
      "cell_type": "code",
      "execution_count": null,
      "metadata": {
        "collapsed": false
      },
      "outputs": [],
      "source": [
        "gpv.plot_2d(geo_model, show_data=True)\n",
        "gpv.plot_3d(geo_model, show_data=True, image=False, kwargs_plot_structured_grid={'opacity': .2})"
      ]
    }
  ],
  "metadata": {
    "kernelspec": {
      "display_name": "Python 3",
      "language": "python",
      "name": "python3"
    },
    "language_info": {
      "codemirror_mode": {
        "name": "ipython",
        "version": 3
      },
      "file_extension": ".py",
      "mimetype": "text/x-python",
      "name": "python",
      "nbconvert_exporter": "python",
      "pygments_lexer": "ipython3",
      "version": "3.12.3"
    }
  },
  "nbformat": 4,
  "nbformat_minor": 0
}
